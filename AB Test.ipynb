{
 "cells": [
  {
   "cell_type": "code",
   "execution_count": 191,
   "metadata": {
    "collapsed": true
   },
   "outputs": [],
   "source": [
    "import numpy as np\n",
    "import pymc as pm\n",
    "import matplotlib.pyplot as plt\n",
    "import statsmodels.stats.proportion as prop\n",
    "%matplotlib inline\n",
    "from IPython.core.pylabtools import figsize\n",
    "figsize(12.5, 4)"
   ]
  },
  {
   "cell_type": "code",
   "execution_count": 192,
   "metadata": {
    "collapsed": false
   },
   "outputs": [
    {
     "name": "stdout",
     "output_type": "stream",
     "text": [
      "The mean improvment for group A is: 45.45. The mean for group B is: 34.09\n"
     ]
    }
   ],
   "source": [
    "#Here we simulate two groups- A and B with size 110 and 220. We also simulate who improved in A and B, 50, 75\n",
    "group_A = 110\n",
    "gotBetter_A = 50\n",
    "group_B = 220\n",
    "gotBetter_B = 75\n",
    "\n",
    "percent_A = float(gotBetter_A)/float(group_A)*100\n",
    "percent_B = float(gotBetter_B)/float(group_B)*100\n",
    "print(\"The mean improvment for group A is: %.2f. The mean for group B is: %.2f\" % (percent_A, percent_B))"
   ]
  },
  {
   "cell_type": "code",
   "execution_count": 193,
   "metadata": {
    "collapsed": true
   },
   "outputs": [],
   "source": [
    "data_A = np.r_[[0] * (group_A - gotBetter_A), [1] * gotBetter_A]\n",
    "data_B = np.r_[[0] * (group_B - gotBetter_B), [1] * gotBetter_B]"
   ]
  },
  {
   "cell_type": "code",
   "execution_count": 194,
   "metadata": {
    "collapsed": false
   },
   "outputs": [],
   "source": [
    "#Here we generate our prior assumptions. Since I don't have a clear idea of what the prior should be, \n",
    "#we will use a uniform prior with equal likelihood between 0 and 1.\n",
    "p_A = pm.Uniform('p_A', lower=0, upper=1)\n",
    "p_B = pm.Uniform('p_B', lower=0, upper=1)"
   ]
  },
  {
   "cell_type": "code",
   "execution_count": 195,
   "metadata": {
    "collapsed": false
   },
   "outputs": [
    {
     "name": "stdout",
     "output_type": "stream",
     "text": [
      "IF we had a strong belief about the effectiveness of treatment, we could use another prior.\n"
     ]
    },
    {
     "data": {
      "image/png": "[encoded data removed]",
      "text/plain": [
       "<matplotlib.figure.Figure at 0x11ba2bbd0>"
      ]
     },
     "metadata": {},
     "output_type": "display_data"
    }
   ],
   "source": [
    "#Plot the prior, just to ensure it is what we expect.\n",
    "print (\"IF we had a strong belief about the effectiveness of treatment, we could use another prior.\")\n",
    "p_A_vars = [p_A.random() for i in range(10000)]\n",
    "plt.hist(p_A_vars, bins=10)\n",
    "plt.xlim(0, 1);\n",
    "plt.grid(True);"
   ]
  },
  {
   "cell_type": "code",
   "execution_count": 196,
   "metadata": {
    "collapsed": false
   },
   "outputs": [],
   "source": [
    "#This returns the difference between A and B\n",
    "@pm.deterministic\n",
    "def delta(p_A=p_A, p_B=p_B):\n",
    "    return p_A - p_B"
   ]
  },
  {
   "cell_type": "code",
   "execution_count": 197,
   "metadata": {
    "collapsed": false
   },
   "outputs": [
    {
     "name": "stdout",
     "output_type": "stream",
     "text": [
      " [-----------------100%-----------------] 20000 of 20000 complete in 3.1 sec"
     ]
    }
   ],
   "source": [
    "#This adds the data we have generated to our prior beliefs. \n",
    "#In essence, it blends what we thought before with the newly seen data. \n",
    "obs_A = pm.Bernoulli(\"obs_A\",p_A, value = data_A, observed = True)\n",
    "obs_B = pm.Bernoulli(\"obs_B\", p_B, value = data_B, observed = True)\n",
    "\n",
    "#Here we do the MCMC sampling\n",
    "mcmc = pm.MCMC([p_A, p_B, delta, obs_A, obs_B])\n",
    "mcmc.sample(20000, 1000)"
   ]
  },
  {
   "cell_type": "code",
   "execution_count": 198,
   "metadata": {
    "collapsed": false
   },
   "outputs": [],
   "source": [
    "p_A_samples = mcmc.trace(\"p_A\")[:]\n",
    "p_B_samples = mcmc.trace(\"p_B\")[:]\n",
    "delta_samples = mcmc.trace(\"delta\")[:]"
   ]
  },
  {
   "cell_type": "code",
   "execution_count": 199,
   "metadata": {
    "collapsed": false
   },
   "outputs": [
    {
     "name": "stdout",
     "output_type": "stream",
     "text": [
      "The graphs below show the distrobutions for the probability of success for A and B, \n",
      " \n",
      "as well as the probability of the difference between the groups\n"
     ]
    },
    {
     "data": {
      "image/png": "[encoded data removed]",
      "text/plain": [
       "<matplotlib.figure.Figure at 0x11ba7c650>"
      ]
     },
     "metadata": {},
     "output_type": "display_data"
    }
   ],
   "source": [
    "print(\"\"\"The graphs below show the distrobutions for the probability of success for A and B, \\n \n",
    "as well as the probability of the difference between the groups\"\"\")\n",
    "\n",
    "figsize(12.5, 8)\n",
    "ax = plt.subplot(3, 1, 1)\n",
    "\n",
    "plt.xlim(0, 1)\n",
    "plt.hist(p_A_samples, histtype='stepfilled', bins=30, alpha=0.8,\n",
    "label=\"posterior of $p_A$\", color=\"#A60628\", normed=True,\n",
    "edgecolor= \"none\")\n",
    "plt.legend(loc=\"upper right\")\n",
    "plt.title(\"Posterior distributions of $p_A$, $p_B$, and delta unknowns\")\n",
    "\n",
    "ax = plt.subplot(3, 1, 2)\n",
    "\n",
    "plt.xlim(0, 1)\n",
    "plt.hist(p_B_samples, histtype='stepfilled', bins=30, alpha=0.8,\n",
    "        label=\"posterior of $p_B$\", color=\"#467821\", normed=True,\n",
    "        edgecolor = \"none\")\n",
    "plt.legend(loc=\"upper right\")\n",
    "\n",
    "ax = plt.subplot(3, 1, 3)\n",
    "plt.ylim(0,10)\n",
    "plt.hist(delta_samples, histtype='stepfilled', bins=50, alpha=0.8,\n",
    "        label=\"posterior of $p_B$ - $p_A$\", color=\"#7A68A6\",normed=True,\n",
    "        edgecolor = \"none\")\n",
    "plt.legend(loc=\"upper right\")\n",
    "plt.vlines(0, 0, 120, color=\"black\", alpha = .5)\n",
    "\n",
    "plt.show()"
   ]
  },
  {
   "cell_type": "code",
   "execution_count": 200,
   "metadata": {
    "collapsed": false
   },
   "outputs": [
    {
     "name": "stdout",
     "output_type": "stream",
     "text": [
      "Probability treatment A is better than treatment B: 97.54\n"
     ]
    }
   ],
   "source": [
    "print \"Probability treatment A is better than treatment B: %.2f\" % ((delta_samples > 0).mean()*100)"
   ]
  },
  {
   "cell_type": "code",
   "execution_count": 201,
   "metadata": {
    "collapsed": false
   },
   "outputs": [
    {
     "name": "stdout",
     "output_type": "stream",
     "text": [
      "Probability treatment A is better than treatment B by 5 percent: 86.27\n"
     ]
    }
   ],
   "source": [
    "#We can also ask questions like, what is the chance A is better than B by some percent\n",
    "print \"Probability treatment A is better than treatment B by 5 percent: %.2f\" % ((delta_samples > .05).mean()*100)"
   ]
  },
  {
   "cell_type": "code",
   "execution_count": 202,
   "metadata": {
    "collapsed": false
   },
   "outputs": [
    {
     "name": "stdout",
     "output_type": "stream",
     "text": [
      "Using a standard z-test of proportions, the p value that A is better than B is: 0.022\n"
     ]
    }
   ],
   "source": [
    "#Lets compare this to a normal proprtion test\n",
    "better = np.array([50, 75])\n",
    "obs = np.array([110, 220])\n",
    "tat, pval = prop.proportions_ztest(better, obs, alternative='larger')\n",
    "print(\"Using a standard z-test of proportions, the p value that A is better than B is: %.3f\"% pval)"
   ]
  },
  {
   "cell_type": "code",
   "execution_count": 203,
   "metadata": {
    "collapsed": true
   },
   "outputs": [],
   "source": [
    "#The results of the Bayesian method and the z-test are very similar\n",
    "#Both suggest A is indedd more effective than B"
   ]
  },
  {
   "cell_type": "code",
   "execution_count": null,
   "metadata": {
    "collapsed": true
   },
   "outputs": [],
   "source": []
  }
 ],
 "metadata": {
  "kernelspec": {
   "display_name": "Python [default]",
   "language": "python",
   "name": "python2"
  },
  "language_info": {
   "codemirror_mode": {
    "name": "ipython",
    "version": 2
   },
   "file_extension": ".py",
   "mimetype": "text/x-python",
   "name": "python",
   "nbconvert_exporter": "python",
   "pygments_lexer": "ipython2",
   "version": "2.7.13"
  }
 },
 "nbformat": 4,
 "nbformat_minor": 2
}
